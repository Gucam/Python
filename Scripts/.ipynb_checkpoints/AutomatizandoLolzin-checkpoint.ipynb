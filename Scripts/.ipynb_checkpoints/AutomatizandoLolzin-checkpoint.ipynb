{
 "cells": [
  {
   "cell_type": "code",
   "execution_count": null,
   "id": "b8c7e5a5",
   "metadata": {},
   "outputs": [],
   "source": [
    "import pyautogui\n",
    "import pyperclip\n",
    "import time\n",
    "\n",
    "pyautogui.PAUSE = 1\n",
    "\n",
    "#1° Passo: Abrir o janela do windows, e abrir o lol\n",
    "pyautogui.click(x=260, y=751)\n",
    "#2° Passo: Entra no lobby clicar em jogar e em escolha alternada\n",
    "time.sleep(30)\n",
    "pyautogui.click(x=175, y=40)\n",
    "time.sleep(2)\n",
    "pyautogui.click(x=305, y=550)\n",
    "pyautogui.click(x=555, y=680)\n",
    "#3° Passo: Escolher as Rotas e iniciar a partida\n",
    "time.sleep(2)\n",
    "pyautogui.click(x=527, y=477)\n",
    "pyautogui.click(x=430, y=482)\n",
    "pyautogui.click(x=614, y=492)\n",
    "pyautogui.click(x=549, y=415)\n",
    "pyautogui.click(x=559, y=683)\n",
    "\n"
   ]
  },
  {
   "cell_type": "code",
   "execution_count": 12,
   "id": "fa5cfae0",
   "metadata": {},
   "outputs": [
    {
     "data": {
      "text/plain": [
       "Point(x=1270, y=324)"
      ]
     },
     "execution_count": 12,
     "metadata": {},
     "output_type": "execute_result"
    }
   ],
   "source": [
    "import pyautogui\n",
    "import time\n",
    "time.sleep(3)\n",
    "pyautogui.position()\n"
   ]
  },
  {
   "cell_type": "code",
   "execution_count": null,
   "id": "35d306e3",
   "metadata": {},
   "outputs": [],
   "source": []
  }
 ],
 "metadata": {
  "kernelspec": {
   "display_name": "Python 3",
   "language": "python",
   "name": "python3"
  },
  "language_info": {
   "codemirror_mode": {
    "name": "ipython",
    "version": 3
   },
   "file_extension": ".py",
   "mimetype": "text/x-python",
   "name": "python",
   "nbconvert_exporter": "python",
   "pygments_lexer": "ipython3",
   "version": "3.8.8"
  }
 },
 "nbformat": 4,
 "nbformat_minor": 5
}
